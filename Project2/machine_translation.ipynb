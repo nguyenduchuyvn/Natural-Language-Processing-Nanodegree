{
 "cells": [
  {
   "cell_type": "markdown",
   "metadata": {
    "collapsed": true
   },
   "source": [
    "# Artificial Intelligence Nanodegree\n",
    "## Machine Translation Project\n",
    "In this notebook, sections that end with **'(IMPLEMENTATION)'** in the header indicate that the following blocks of code will require additional functionality which you must provide. Please be sure to read the instructions carefully!\n",
    "\n",
    "## Introduction\n",
    "In this notebook, you will build a deep neural network that functions as part of an end-to-end machine translation pipeline. Your completed pipeline will accept English text as input and return the French translation.\n",
    "\n",
    "- **Preprocess** - You'll convert text to sequence of integers.\n",
    "- **Models** Create models which accepts a sequence of integers as input and returns a probability distribution over possible translations. After learning about the basic types of neural networks that are often used for machine translation, you will engage in your own investigations, to design your own model!\n",
    "- **Prediction** Run the model on English text."
   ]
  },
  {
   "cell_type": "code",
   "execution_count": 1,
   "metadata": {},
   "outputs": [],
   "source": [
    "%load_ext autoreload\n",
    "%aimport helper, tests\n",
    "%autoreload 1"
   ]
  },
  {
   "cell_type": "code",
   "execution_count": 2,
   "metadata": {},
   "outputs": [
    {
     "name": "stderr",
     "output_type": "stream",
     "text": [
      "Using TensorFlow backend.\n"
     ]
    }
   ],
   "source": [
    "import collections\n",
    "\n",
    "import helper\n",
    "import numpy as np\n",
    "import project_tests as tests\n",
    "\n",
    "from keras.preprocessing.text import Tokenizer\n",
    "from keras.preprocessing.sequence import pad_sequences\n",
    "from keras.models import Model\n",
    "from keras.layers import GRU, Input, Dense, TimeDistributed, Activation, RepeatVector, Bidirectional\n",
    "from keras.layers.embeddings import Embedding\n",
    "from keras.optimizers import Adam\n",
    "from keras.losses import sparse_categorical_crossentropy"
   ]
  },
  {
   "cell_type": "markdown",
   "metadata": {},
   "source": [
    "### Verify access to the GPU\n",
    "The following test applies only if you expect to be using a GPU, e.g., while running in a Udacity Workspace or using an AWS instance with GPU support. Run the next cell, and verify that the device_type is \"GPU\".\n",
    "- If the device is not GPU & you are running from a Udacity Workspace, then save your workspace with the icon at the top, then click \"enable\" at the bottom of the workspace.\n",
    "- If the device is not GPU & you are running from an AWS instance, then refer to the cloud computing instructions in the classroom to verify your setup steps."
   ]
  },
  {
   "cell_type": "code",
   "execution_count": 3,
   "metadata": {},
   "outputs": [
    {
     "name": "stdout",
     "output_type": "stream",
     "text": [
      "[name: \"/cpu:0\"\n",
      "device_type: \"CPU\"\n",
      "memory_limit: 268435456\n",
      "locality {\n",
      "}\n",
      "incarnation: 10497795354333172767\n",
      ", name: \"/gpu:0\"\n",
      "device_type: \"GPU\"\n",
      "memory_limit: 357564416\n",
      "locality {\n",
      "  bus_id: 1\n",
      "}\n",
      "incarnation: 6722314881951941446\n",
      "physical_device_desc: \"device: 0, name: Tesla K80, pci bus id: 0000:00:04.0\"\n",
      "]\n"
     ]
    }
   ],
   "source": [
    "from tensorflow.python.client import device_lib\n",
    "print(device_lib.list_local_devices())"
   ]
  },
  {
   "cell_type": "markdown",
   "metadata": {},
   "source": [
    "## Dataset\n",
    "We begin by investigating the dataset that will be used to train and evaluate your pipeline.  The most common datasets used for machine translation are from [WMT](http://www.statmt.org/).  However, that will take a long time to train a neural network on.  We'll be using a dataset we created for this project that contains a small vocabulary.  You'll be able to train your model in a reasonable time with this dataset.\n",
    "### Load Data\n",
    "The data is located in `data/small_vocab_en` and `data/small_vocab_fr`. The `small_vocab_en` file contains English sentences with their French translations in the `small_vocab_fr` file. Load the English and French data from these files from running the cell below."
   ]
  },
  {
   "cell_type": "code",
   "execution_count": 4,
   "metadata": {},
   "outputs": [
    {
     "name": "stdout",
     "output_type": "stream",
     "text": [
      "Dataset Loaded\n"
     ]
    }
   ],
   "source": [
    "# Load English data\n",
    "english_sentences = helper.load_data('data/small_vocab_en')\n",
    "# Load French data\n",
    "french_sentences = helper.load_data('data/small_vocab_fr')\n",
    "\n",
    "print('Dataset Loaded')"
   ]
  },
  {
   "cell_type": "markdown",
   "metadata": {},
   "source": [
    "### Files\n",
    "Each line in `small_vocab_en` contains an English sentence with the respective translation in each line of `small_vocab_fr`.  View the first two lines from each file."
   ]
  },
  {
   "cell_type": "code",
   "execution_count": 5,
   "metadata": {},
   "outputs": [
    {
     "name": "stdout",
     "output_type": "stream",
     "text": [
      "small_vocab_en Line 1:  new jersey is sometimes quiet during autumn , and it is snowy in april .\n",
      "small_vocab_fr Line 1:  new jersey est parfois calme pendant l' automne , et il est neigeux en avril .\n",
      "small_vocab_en Line 2:  the united states is usually chilly during july , and it is usually freezing in november .\n",
      "small_vocab_fr Line 2:  les états-unis est généralement froid en juillet , et il gèle habituellement en novembre .\n"
     ]
    }
   ],
   "source": [
    "for sample_i in range(2):\n",
    "    print('small_vocab_en Line {}:  {}'.format(sample_i + 1, english_sentences[sample_i]))\n",
    "    print('small_vocab_fr Line {}:  {}'.format(sample_i + 1, french_sentences[sample_i]))"
   ]
  },
  {
   "cell_type": "markdown",
   "metadata": {},
   "source": [
    "From looking at the sentences, you can see they have been preprocessed already.  The puncuations have been delimited using spaces. All the text have been converted to lowercase.  This should save you some time, but the text requires more preprocessing.\n",
    "### Vocabulary\n",
    "The complexity of the problem is determined by the complexity of the vocabulary.  A more complex vocabulary is a more complex problem.  Let's look at the complexity of the dataset we'll be working with."
   ]
  },
  {
   "cell_type": "code",
   "execution_count": 6,
   "metadata": {},
   "outputs": [
    {
     "name": "stdout",
     "output_type": "stream",
     "text": [
      "1823250 English words.\n",
      "227 unique English words.\n",
      "10 Most common words in the English dataset:\n",
      "\"is\" \",\" \".\" \"in\" \"it\" \"during\" \"the\" \"but\" \"and\" \"sometimes\"\n",
      "\n",
      "1961295 French words.\n",
      "355 unique French words.\n",
      "10 Most common words in the French dataset:\n",
      "\"est\" \".\" \",\" \"en\" \"il\" \"les\" \"mais\" \"et\" \"la\" \"parfois\"\n"
     ]
    }
   ],
   "source": [
    "english_words_counter = collections.Counter([word for sentence in english_sentences for word in sentence.split()])\n",
    "french_words_counter = collections.Counter([word for sentence in french_sentences for word in sentence.split()])\n",
    "\n",
    "print('{} English words.'.format(len([word for sentence in english_sentences for word in sentence.split()])))\n",
    "print('{} unique English words.'.format(len(english_words_counter)))\n",
    "print('10 Most common words in the English dataset:')\n",
    "print('\"' + '\" \"'.join(list(zip(*english_words_counter.most_common(10)))[0]) + '\"')\n",
    "print()\n",
    "print('{} French words.'.format(len([word for sentence in french_sentences for word in sentence.split()])))\n",
    "print('{} unique French words.'.format(len(french_words_counter)))\n",
    "print('10 Most common words in the French dataset:')\n",
    "print('\"' + '\" \"'.join(list(zip(*french_words_counter.most_common(10)))[0]) + '\"')"
   ]
  },
  {
   "cell_type": "markdown",
   "metadata": {},
   "source": [
    "For comparison, _Alice's Adventures in Wonderland_ contains 2,766 unique words of a total of 15,500 words.\n",
    "## Preprocess\n",
    "For this project, you won't use text data as input to your model. Instead, you'll convert the text into sequences of integers using the following preprocess methods:\n",
    "1. Tokenize the words into ids\n",
    "2. Add padding to make all the sequences the same length.\n",
    "\n",
    "Time to start preprocessing the data...\n",
    "### Tokenize (IMPLEMENTATION)\n",
    "For a neural network to predict on text data, it first has to be turned into data it can understand. Text data like \"dog\" is a sequence of ASCII character encodings.  Since a neural network is a series of multiplication and addition operations, the input data needs to be number(s).\n",
    "\n",
    "We can turn each character into a number or each word into a number.  These are called character and word ids, respectively.  Character ids are used for character level models that generate text predictions for each character.  A word level model uses word ids that generate text predictions for each word.  Word level models tend to learn better, since they are lower in complexity, so we'll use those.\n",
    "\n",
    "Turn each sentence into a sequence of words ids using Keras's [`Tokenizer`](https://keras.io/preprocessing/text/#tokenizer) function. Use this function to tokenize `english_sentences` and `french_sentences` in the cell below.\n",
    "\n",
    "Running the cell will run `tokenize` on sample data and show output for debugging."
   ]
  },
  {
   "cell_type": "code",
   "execution_count": 7,
   "metadata": {},
   "outputs": [
    {
     "name": "stdout",
     "output_type": "stream",
     "text": [
      "{'the': 1, 'quick': 2, 'a': 3, 'brown': 4, 'fox': 5, 'jumps': 6, 'over': 7, 'lazy': 8, 'dog': 9, 'by': 10, 'jove': 11, 'my': 12, 'study': 13, 'of': 14, 'lexicography': 15, 'won': 16, 'prize': 17, 'this': 18, 'is': 19, 'short': 20, 'sentence': 21}\n",
      "\n",
      "Sequence 1 in x\n",
      "  Input:  The quick brown fox jumps over the lazy dog .\n",
      "  Output: [1, 2, 4, 5, 6, 7, 1, 8, 9]\n",
      "Sequence 2 in x\n",
      "  Input:  By Jove , my quick study of lexicography won a prize .\n",
      "  Output: [10, 11, 12, 2, 13, 14, 15, 16, 3, 17]\n",
      "Sequence 3 in x\n",
      "  Input:  This is a short sentence .\n",
      "  Output: [18, 19, 3, 20, 21]\n"
     ]
    }
   ],
   "source": [
    "def tokenize(x):\n",
    "    \"\"\"\n",
    "    Tokenize x\n",
    "    :param x: List of sentences/strings to be tokenized\n",
    "    :return: Tuple of (tokenized x data, tokenizer used to tokenize x)\n",
    "    \"\"\"\n",
    "    # TODO: Implement\n",
    "    tokenize = Tokenizer()\n",
    "    tokenize.fit_on_texts(x)\n",
    "    sequences = tokenize.texts_to_sequences(x)\n",
    "    return sequences, tokenize\n",
    "tests.test_tokenize(tokenize)\n",
    "\n",
    "# Tokenize Example output\n",
    "text_sentences = [\n",
    "    'The quick brown fox jumps over the lazy dog .',\n",
    "    'By Jove , my quick study of lexicography won a prize .',\n",
    "    'This is a short sentence .']\n",
    "text_tokenized, text_tokenizer = tokenize(text_sentences)\n",
    "print(text_tokenizer.word_index)\n",
    "print()\n",
    "for sample_i, (sent, token_sent) in enumerate(zip(text_sentences, text_tokenized)):\n",
    "    print('Sequence {} in x'.format(sample_i + 1))\n",
    "    print('  Input:  {}'.format(sent))\n",
    "    print('  Output: {}'.format(token_sent))"
   ]
  },
  {
   "cell_type": "code",
   "execution_count": 8,
   "metadata": {},
   "outputs": [
    {
     "name": "stdout",
     "output_type": "stream",
     "text": [
      "[9, 10, 5] 10\n"
     ]
    }
   ],
   "source": [
    "x = text_tokenized\n",
    "\n",
    "a = [len(xx) for xx in x]\n",
    "print(a, max(a))"
   ]
  },
  {
   "cell_type": "markdown",
   "metadata": {},
   "source": [
    "### Padding (IMPLEMENTATION)\n",
    "When batching the sequence of word ids together, each sequence needs to be the same length.  Since sentences are dynamic in length, we can add padding to the end of the sequences to make them the same length.\n",
    "\n",
    "Make sure all the English sequences have the same length and all the French sequences have the same length by adding padding to the **end** of each sequence using Keras's [`pad_sequences`](https://keras.io/preprocessing/sequence/#pad_sequences) function."
   ]
  },
  {
   "cell_type": "code",
   "execution_count": 9,
   "metadata": {},
   "outputs": [
    {
     "name": "stdout",
     "output_type": "stream",
     "text": [
      "Sequence 1 in x\n",
      "  Input:  [1 2 4 5 6 7 1 8 9]\n",
      "  Output: [1 2 4 5 6 7 1 8 9 0]\n",
      "Sequence 2 in x\n",
      "  Input:  [10 11 12  2 13 14 15 16  3 17]\n",
      "  Output: [10 11 12  2 13 14 15 16  3 17]\n",
      "Sequence 3 in x\n",
      "  Input:  [18 19  3 20 21]\n",
      "  Output: [18 19  3 20 21  0  0  0  0  0]\n"
     ]
    }
   ],
   "source": [
    "def pad(x, length=None):\n",
    "    \"\"\"\n",
    "    Pad x\n",
    "    :param x: List of sequences.\n",
    "    :param length: Length to pad the sequence to.  If None, use length of longest sequence in x.\n",
    "    :return: Padded numpy array of sequences\n",
    "    \"\"\"\n",
    "    # TODO: Implement\n",
    "    if length == None:\n",
    "        lengths = [len(xx) for xx in x]\n",
    "        seq = pad_sequences(x, maxlen = max(lengths), padding='post')\n",
    "    else: \n",
    "        seq = pad_sequences(x, maxlen = length, padding='post')\n",
    "    return seq\n",
    "tests.test_pad(pad)\n",
    "\n",
    "# Pad Tokenized output\n",
    "test_pad = pad(text_tokenized)\n",
    "for sample_i, (token_sent, pad_sent) in enumerate(zip(text_tokenized, test_pad)):\n",
    "    print('Sequence {} in x'.format(sample_i + 1))\n",
    "    print('  Input:  {}'.format(np.array(token_sent)))\n",
    "    print('  Output: {}'.format(pad_sent))"
   ]
  },
  {
   "cell_type": "markdown",
   "metadata": {},
   "source": [
    "### Preprocess Pipeline\n",
    "Your focus for this project is to build neural network architecture, so we won't ask you to create a preprocess pipeline.  Instead, we've provided you with the implementation of the `preprocess` function."
   ]
  },
  {
   "cell_type": "code",
   "execution_count": 10,
   "metadata": {},
   "outputs": [
    {
     "name": "stdout",
     "output_type": "stream",
     "text": [
      "Data Preprocessed\n",
      "Max English sentence length: 15\n",
      "Max French sentence length: 21\n",
      "English vocabulary size: 199\n",
      "French vocabulary size: 344\n"
     ]
    }
   ],
   "source": [
    "def preprocess(x, y):\n",
    "    \"\"\"\n",
    "    Preprocess x and y\n",
    "    :param x: Feature List of sentences\n",
    "    :param y: Label List of sentences\n",
    "    :return: Tuple of (Preprocessed x, Preprocessed y, x tokenizer, y tokenizer)\n",
    "    \"\"\"\n",
    "    preprocess_x, x_tk = tokenize(x)\n",
    "    preprocess_y, y_tk = tokenize(y)\n",
    "\n",
    "    preprocess_x = pad(preprocess_x)\n",
    "    preprocess_y = pad(preprocess_y)\n",
    "\n",
    "    # Keras's sparse_categorical_crossentropy function requires the labels to be in 3 dimensions\n",
    "    preprocess_y = preprocess_y.reshape(*preprocess_y.shape, 1)\n",
    "\n",
    "    return preprocess_x, preprocess_y, x_tk, y_tk\n",
    "\n",
    "preproc_english_sentences, preproc_french_sentences, english_tokenizer, french_tokenizer =\\\n",
    "    preprocess(english_sentences, french_sentences)\n",
    "    \n",
    "max_english_sequence_length = preproc_english_sentences.shape[1]\n",
    "max_french_sequence_length = preproc_french_sentences.shape[1]\n",
    "english_vocab_size = len(english_tokenizer.word_index)\n",
    "french_vocab_size = len(french_tokenizer.word_index)\n",
    "\n",
    "print('Data Preprocessed')\n",
    "print(\"Max English sentence length:\", max_english_sequence_length)\n",
    "print(\"Max French sentence length:\", max_french_sequence_length)\n",
    "print(\"English vocabulary size:\", english_vocab_size)\n",
    "print(\"French vocabulary size:\", french_vocab_size)"
   ]
  },
  {
   "cell_type": "markdown",
   "metadata": {},
   "source": [
    "## Models\n",
    "In this section, you will experiment with various neural network architectures.\n",
    "You will begin by training four relatively simple architectures.\n",
    "- Model 1 is a simple RNN\n",
    "- Model 2 is a RNN with Embedding\n",
    "- Model 3 is a Bidirectional RNN\n",
    "- Model 4 is an Encoder-Decoder RNN\n",
    "\n",
    "After experimenting with the four simple architectures, you will construct a deeper architecture that is designed to outperform all four models.\n",
    "### Ids Back to Text\n",
    "The neural network will be translating the input to words ids, which isn't the final form we want.  We want the French translation.  The function `logits_to_text` will bridge the gab between the logits from the neural network to the French translation.  You'll be using this function to better understand the output of the neural network."
   ]
  },
  {
   "cell_type": "code",
   "execution_count": 11,
   "metadata": {},
   "outputs": [
    {
     "name": "stdout",
     "output_type": "stream",
     "text": [
      "`logits_to_text` function loaded.\n"
     ]
    }
   ],
   "source": [
    "def logits_to_text(logits, tokenizer):\n",
    "    \"\"\"\n",
    "    Turn logits from a neural network into text using the tokenizer\n",
    "    :param logits: Logits from a neural network\n",
    "    :param tokenizer: Keras Tokenizer fit on the labels\n",
    "    :return: String that represents the text of the logits\n",
    "    \"\"\"\n",
    "    index_to_words = {id: word for word, id in tokenizer.word_index.items()}\n",
    "    index_to_words[0] = '<PAD>'\n",
    "\n",
    "    return ' '.join([index_to_words[prediction] for prediction in np.argmax(logits, 1)])\n",
    "\n",
    "print('`logits_to_text` function loaded.')"
   ]
  },
  {
   "cell_type": "markdown",
   "metadata": {},
   "source": [
    "### Model 1: RNN (IMPLEMENTATION)\n",
    "![RNN](images/rnn.png)\n",
    "A basic RNN model is a good baseline for sequence data.  In this model, you'll build a RNN that translates English to French."
   ]
  },
  {
   "cell_type": "code",
   "execution_count": 12,
   "metadata": {},
   "outputs": [
    {
     "data": {
      "text/plain": [
       "(137861, 21, 1)"
      ]
     },
     "execution_count": 12,
     "metadata": {},
     "output_type": "execute_result"
    }
   ],
   "source": [
    "# Reshaping the input to work with a basic RNN\n",
    "tmp_x = pad(preproc_english_sentences, max_french_sequence_length)\n",
    "tmp_x = tmp_x.reshape((-1, preproc_french_sentences.shape[-2], 1))\n",
    "tmp_x.shape"
   ]
  },
  {
   "cell_type": "code",
   "execution_count": 13,
   "metadata": {},
   "outputs": [
    {
     "name": "stdout",
     "output_type": "stream",
     "text": [
      "Train on 110288 samples, validate on 27573 samples\n",
      "Epoch 1/40\n",
      "110288/110288 [==============================] - 10s 87us/step - loss: 3.3597 - acc: 0.4220 - val_loss: nan - val_acc: 0.4578\n",
      "Epoch 2/40\n",
      "110288/110288 [==============================] - 8s 69us/step - loss: 2.4116 - acc: 0.4715 - val_loss: nan - val_acc: 0.4908\n",
      "Epoch 3/40\n",
      "110288/110288 [==============================] - 8s 69us/step - loss: 2.1424 - acc: 0.5138 - val_loss: nan - val_acc: 0.5409\n",
      "Epoch 4/40\n",
      "110288/110288 [==============================] - 8s 69us/step - loss: 1.8826 - acc: 0.5562 - val_loss: nan - val_acc: 0.5675\n",
      "Epoch 5/40\n",
      "110288/110288 [==============================] - 8s 69us/step - loss: 1.7166 - acc: 0.5742 - val_loss: nan - val_acc: 0.5835\n",
      "Epoch 6/40\n",
      "110288/110288 [==============================] - 8s 69us/step - loss: 1.6190 - acc: 0.5927 - val_loss: nan - val_acc: 0.6039\n",
      "Epoch 7/40\n",
      "110288/110288 [==============================] - 8s 69us/step - loss: 1.5517 - acc: 0.6024 - val_loss: nan - val_acc: 0.6083\n",
      "Epoch 8/40\n",
      "110288/110288 [==============================] - 8s 69us/step - loss: 1.4977 - acc: 0.6105 - val_loss: nan - val_acc: 0.6148\n",
      "Epoch 9/40\n",
      "110288/110288 [==============================] - 8s 69us/step - loss: 1.4504 - acc: 0.6179 - val_loss: nan - val_acc: 0.6211\n",
      "Epoch 10/40\n",
      "110288/110288 [==============================] - 8s 69us/step - loss: 1.4079 - acc: 0.6239 - val_loss: nan - val_acc: 0.6247\n",
      "Epoch 11/40\n",
      "110288/110288 [==============================] - 8s 69us/step - loss: 1.3694 - acc: 0.6279 - val_loss: nan - val_acc: 0.6295\n",
      "Epoch 12/40\n",
      "110288/110288 [==============================] - 8s 69us/step - loss: 1.3325 - acc: 0.6326 - val_loss: nan - val_acc: 0.6361\n",
      "Epoch 13/40\n",
      "110288/110288 [==============================] - 8s 69us/step - loss: 1.2956 - acc: 0.6408 - val_loss: nan - val_acc: 0.6423\n",
      "Epoch 14/40\n",
      "110288/110288 [==============================] - 8s 70us/step - loss: 1.2635 - acc: 0.6448 - val_loss: nan - val_acc: 0.6457\n",
      "Epoch 15/40\n",
      "110288/110288 [==============================] - 8s 69us/step - loss: 1.2365 - acc: 0.6491 - val_loss: nan - val_acc: 0.6499\n",
      "Epoch 16/40\n",
      "110288/110288 [==============================] - 8s 69us/step - loss: 1.2136 - acc: 0.6518 - val_loss: nan - val_acc: 0.6534\n",
      "Epoch 17/40\n",
      "110288/110288 [==============================] - 8s 69us/step - loss: 1.1934 - acc: 0.6540 - val_loss: nan - val_acc: 0.6542\n",
      "Epoch 18/40\n",
      "110288/110288 [==============================] - 8s 69us/step - loss: 1.1758 - acc: 0.6569 - val_loss: nan - val_acc: 0.6602\n",
      "Epoch 19/40\n",
      "110288/110288 [==============================] - 8s 69us/step - loss: 1.1595 - acc: 0.6582 - val_loss: nan - val_acc: 0.6583\n",
      "Epoch 20/40\n",
      "110288/110288 [==============================] - 8s 69us/step - loss: 1.1445 - acc: 0.6611 - val_loss: nan - val_acc: 0.6605\n",
      "Epoch 21/40\n",
      "110288/110288 [==============================] - 8s 69us/step - loss: 1.1305 - acc: 0.6628 - val_loss: nan - val_acc: 0.6635\n",
      "Epoch 22/40\n",
      "110288/110288 [==============================] - 8s 69us/step - loss: 1.1174 - acc: 0.6652 - val_loss: nan - val_acc: 0.6648\n",
      "Epoch 23/40\n",
      "110288/110288 [==============================] - 8s 69us/step - loss: 1.1054 - acc: 0.6665 - val_loss: nan - val_acc: 0.6652\n",
      "Epoch 24/40\n",
      "110288/110288 [==============================] - 8s 69us/step - loss: 1.0933 - acc: 0.6691 - val_loss: nan - val_acc: 0.6694\n",
      "Epoch 25/40\n",
      "110288/110288 [==============================] - 8s 69us/step - loss: 1.0814 - acc: 0.6704 - val_loss: nan - val_acc: 0.6707\n",
      "Epoch 26/40\n",
      "110288/110288 [==============================] - 8s 69us/step - loss: 1.0699 - acc: 0.6721 - val_loss: nan - val_acc: 0.6729\n",
      "Epoch 27/40\n",
      "110288/110288 [==============================] - 8s 69us/step - loss: 1.0583 - acc: 0.6737 - val_loss: nan - val_acc: 0.6738\n",
      "Epoch 28/40\n",
      "110288/110288 [==============================] - 8s 69us/step - loss: 1.0476 - acc: 0.6755 - val_loss: nan - val_acc: 0.6783\n",
      "Epoch 29/40\n",
      "110288/110288 [==============================] - 8s 69us/step - loss: 1.0367 - acc: 0.6773 - val_loss: nan - val_acc: 0.6765\n",
      "Epoch 30/40\n",
      "110288/110288 [==============================] - 8s 69us/step - loss: 1.0268 - acc: 0.6788 - val_loss: nan - val_acc: 0.6766\n",
      "Epoch 31/40\n",
      "110288/110288 [==============================] - 8s 69us/step - loss: 1.0170 - acc: 0.6797 - val_loss: nan - val_acc: 0.6830\n",
      "Epoch 32/40\n",
      "110288/110288 [==============================] - 8s 69us/step - loss: 1.0082 - acc: 0.6820 - val_loss: nan - val_acc: 0.6842\n",
      "Epoch 33/40\n",
      "110288/110288 [==============================] - 8s 69us/step - loss: 1.0011 - acc: 0.6829 - val_loss: nan - val_acc: 0.6810\n",
      "Epoch 34/40\n",
      "110288/110288 [==============================] - 8s 69us/step - loss: 0.9928 - acc: 0.6841 - val_loss: nan - val_acc: 0.6836\n",
      "Epoch 35/40\n",
      "110288/110288 [==============================] - 8s 69us/step - loss: 0.9849 - acc: 0.6858 - val_loss: nan - val_acc: 0.6885\n",
      "Epoch 36/40\n",
      "110288/110288 [==============================] - 8s 70us/step - loss: 0.9784 - acc: 0.6875 - val_loss: nan - val_acc: 0.6865\n",
      "Epoch 37/40\n",
      "110288/110288 [==============================] - 8s 69us/step - loss: 0.9728 - acc: 0.6888 - val_loss: nan - val_acc: 0.6915\n",
      "Epoch 38/40\n",
      "110288/110288 [==============================] - 8s 69us/step - loss: 0.9652 - acc: 0.6900 - val_loss: nan - val_acc: 0.6891\n",
      "Epoch 39/40\n",
      "110288/110288 [==============================] - 8s 69us/step - loss: 0.9592 - acc: 0.6926 - val_loss: nan - val_acc: 0.6899\n",
      "Epoch 40/40\n",
      "110288/110288 [==============================] - 8s 69us/step - loss: 0.9534 - acc: 0.6935 - val_loss: nan - val_acc: 0.6963\n",
      "new jersey est parfois calme en mois et mai et il est en <PAD> <PAD> <PAD> <PAD> <PAD> <PAD> <PAD> <PAD>\n"
     ]
    }
   ],
   "source": [
    "import keras\n",
    "from keras.models import Sequential\n",
    "def simple_model(input_shape, output_sequence_length, english_vocab_size, french_vocab_size):\n",
    "    \"\"\"\n",
    "    Build and train a basic RNN on x and y\n",
    "    :param input_shape: Tuple of input shape\n",
    "    :param output_sequence_length: Length of output sequence\n",
    "    :param english_vocab_size: Number of unique English words in the dataset\n",
    "    :param french_vocab_size: Number of unique French words in the dataset\n",
    "    :return: Keras model built, but not trained\n",
    "    \"\"\"\n",
    "    # TODO: Build the layers\n",
    "    model = Sequential()\n",
    "\n",
    "    model.add(GRU(units = 128, return_sequences=True, input_shape = input_shape[1:] ))\n",
    "    model.add(Dense(french_vocab_size, activation='softmax'))\n",
    "    \n",
    "    learning_rate = 5e-4\n",
    "    model.compile(loss=sparse_categorical_crossentropy,\n",
    "                  optimizer=Adam(learning_rate),\n",
    "                  metrics=['accuracy'])\n",
    "#     print(model.summary())\n",
    "    return model\n",
    "tests.test_simple_model(simple_model)\n",
    "\n",
    "# Reshaping the input to work with a basic RNN\n",
    "tmp_x = pad(preproc_english_sentences, max_french_sequence_length)\n",
    "tmp_x = tmp_x.reshape((-1, preproc_french_sentences.shape[-2], 1))\n",
    "\n",
    "# Train the neural network\n",
    "simple_rnn_model = simple_model(\n",
    "    tmp_x.shape,\n",
    "    max_french_sequence_length,\n",
    "    english_vocab_size,\n",
    "    french_vocab_size)\n",
    "simple_rnn_model.fit(tmp_x, preproc_french_sentences, batch_size=1024, epochs=40, validation_split=0.2)\n",
    "\n",
    "# Print prediction(s)\n",
    "print(logits_to_text(simple_rnn_model.predict(tmp_x[:1])[0], french_tokenizer))"
   ]
  },
  {
   "cell_type": "code",
   "execution_count": 14,
   "metadata": {},
   "outputs": [
    {
     "name": "stdout",
     "output_type": "stream",
     "text": [
      "English sentence:            \n",
      " new jersey is sometimes quiet during autumn , and it is snowy in april .\n",
      "\n",
      "Predicted sentence:        \n",
      " new jersey est parfois calme en mois et mai et il est en <PAD> <PAD> <PAD> <PAD> <PAD> <PAD> <PAD> <PAD>\n",
      "\n",
      "Translate French sentence: \n",
      " new jersey est parfois calme pendant l' automne , et il est neigeux en avril .\n"
     ]
    }
   ],
   "source": [
    "print(\"English sentence:            \\n\", english_sentences[0])\n",
    "print(\"\\nPredicted sentence:        \\n\", logits_to_text(simple_rnn_model.predict(tmp_x[:1])[0], french_tokenizer))\n",
    "print(\"\\nTranslate French sentence: \\n\", french_sentences[0])"
   ]
  },
  {
   "cell_type": "markdown",
   "metadata": {},
   "source": [
    "### Model 2: Embedding (IMPLEMENTATION)\n",
    "![RNN](images/embedding.png)\n",
    "You've turned the words into ids, but there's a better representation of a word.  This is called word embeddings.  An embedding is a vector representation of the word that is close to similar words in n-dimensional space, where the n represents the size of the embedding vectors.\n",
    "\n",
    "In this model, you'll create a RNN model using embedding."
   ]
  },
  {
   "cell_type": "code",
   "execution_count": 15,
   "metadata": {},
   "outputs": [
    {
     "name": "stdout",
     "output_type": "stream",
     "text": [
      "(137861, 21)\n"
     ]
    }
   ],
   "source": [
    "tmp_x = pad(preproc_english_sentences, max_french_sequence_length)\n",
    "print(tmp_x.shape)\n",
    "# tmp_x = tmp_x.reshape((-1, preproc_french_sentences.shape[-2], 1))"
   ]
  },
  {
   "cell_type": "code",
   "execution_count": 16,
   "metadata": {},
   "outputs": [
    {
     "name": "stdout",
     "output_type": "stream",
     "text": [
      "Train on 110288 samples, validate on 27573 samples\n",
      "Epoch 1/40\n",
      "110288/110288 [==============================] - 10s 91us/step - loss: 3.7299 - acc: 0.4038 - val_loss: nan - val_acc: 0.4094\n",
      "Epoch 2/40\n",
      "110288/110288 [==============================] - 9s 86us/step - loss: 2.6254 - acc: 0.4539 - val_loss: nan - val_acc: 0.5261\n",
      "Epoch 3/40\n",
      "110288/110288 [==============================] - 9s 86us/step - loss: 1.9662 - acc: 0.5664 - val_loss: nan - val_acc: 0.6226\n",
      "Epoch 4/40\n",
      "110288/110288 [==============================] - 9s 86us/step - loss: 1.4097 - acc: 0.6662 - val_loss: nan - val_acc: 0.7119\n",
      "Epoch 5/40\n",
      "110288/110288 [==============================] - 9s 86us/step - loss: 1.1259 - acc: 0.7340 - val_loss: nan - val_acc: 0.7555\n",
      "Epoch 6/40\n",
      "110288/110288 [==============================] - 9s 86us/step - loss: 0.9347 - acc: 0.7682 - val_loss: nan - val_acc: 0.7812\n",
      "Epoch 7/40\n",
      "110288/110288 [==============================] - 9s 86us/step - loss: 0.8006 - acc: 0.7929 - val_loss: nan - val_acc: 0.8049\n",
      "Epoch 8/40\n",
      "110288/110288 [==============================] - 10s 86us/step - loss: 0.7028 - acc: 0.8120 - val_loss: nan - val_acc: 0.8206\n",
      "Epoch 9/40\n",
      "110288/110288 [==============================] - 10s 86us/step - loss: 0.6291 - acc: 0.8265 - val_loss: nan - val_acc: 0.8350\n",
      "Epoch 10/40\n",
      "110288/110288 [==============================] - 9s 86us/step - loss: 0.5723 - acc: 0.8393 - val_loss: nan - val_acc: 0.8459\n",
      "Epoch 11/40\n",
      "110288/110288 [==============================] - 10s 86us/step - loss: 0.5262 - acc: 0.8506 - val_loss: nan - val_acc: 0.8555\n",
      "Epoch 12/40\n",
      "110288/110288 [==============================] - 10s 86us/step - loss: 0.4873 - acc: 0.8605 - val_loss: nan - val_acc: 0.8648\n",
      "Epoch 13/40\n",
      "110288/110288 [==============================] - 10s 86us/step - loss: 0.4562 - acc: 0.8684 - val_loss: nan - val_acc: 0.8734\n",
      "Epoch 14/40\n",
      "110288/110288 [==============================] - 9s 86us/step - loss: 0.4276 - acc: 0.8759 - val_loss: nan - val_acc: 0.8793\n",
      "Epoch 15/40\n",
      "110288/110288 [==============================] - 10s 86us/step - loss: 0.4040 - acc: 0.8819 - val_loss: nan - val_acc: 0.8852\n",
      "Epoch 16/40\n",
      "110288/110288 [==============================] - 9s 86us/step - loss: 0.3820 - acc: 0.8875 - val_loss: nan - val_acc: 0.8891\n",
      "Epoch 17/40\n",
      "110288/110288 [==============================] - 10s 86us/step - loss: 0.3647 - acc: 0.8917 - val_loss: nan - val_acc: 0.8945\n",
      "Epoch 18/40\n",
      "110288/110288 [==============================] - 10s 86us/step - loss: 0.3495 - acc: 0.8958 - val_loss: nan - val_acc: 0.8974\n",
      "Epoch 19/40\n",
      "110288/110288 [==============================] - 10s 86us/step - loss: 0.3364 - acc: 0.8989 - val_loss: nan - val_acc: 0.9008\n",
      "Epoch 20/40\n",
      "110288/110288 [==============================] - 9s 86us/step - loss: 0.3241 - acc: 0.9021 - val_loss: nan - val_acc: 0.9030\n",
      "Epoch 21/40\n",
      "110288/110288 [==============================] - 10s 86us/step - loss: 0.3136 - acc: 0.9047 - val_loss: nan - val_acc: 0.9023\n",
      "Epoch 22/40\n",
      "110288/110288 [==============================] - 9s 86us/step - loss: 0.3049 - acc: 0.9069 - val_loss: nan - val_acc: 0.9076\n",
      "Epoch 23/40\n",
      "110288/110288 [==============================] - 10s 86us/step - loss: 0.2960 - acc: 0.9091 - val_loss: nan - val_acc: 0.9086\n",
      "Epoch 24/40\n",
      "110288/110288 [==============================] - 10s 86us/step - loss: 0.2881 - acc: 0.9112 - val_loss: nan - val_acc: 0.9103\n",
      "Epoch 25/40\n",
      "110288/110288 [==============================] - 10s 86us/step - loss: 0.2814 - acc: 0.9128 - val_loss: nan - val_acc: 0.9128\n",
      "Epoch 26/40\n",
      "110288/110288 [==============================] - 10s 86us/step - loss: 0.2757 - acc: 0.9142 - val_loss: nan - val_acc: 0.9126\n",
      "Epoch 27/40\n",
      "110288/110288 [==============================] - 10s 86us/step - loss: 0.2697 - acc: 0.9158 - val_loss: nan - val_acc: 0.9156\n",
      "Epoch 28/40\n",
      "110288/110288 [==============================] - 10s 86us/step - loss: 0.2647 - acc: 0.9170 - val_loss: nan - val_acc: 0.9171\n",
      "Epoch 29/40\n",
      "110288/110288 [==============================] - 10s 86us/step - loss: 0.2589 - acc: 0.9186 - val_loss: nan - val_acc: 0.9172\n",
      "Epoch 30/40\n",
      "110288/110288 [==============================] - 10s 86us/step - loss: 0.2548 - acc: 0.9196 - val_loss: nan - val_acc: 0.9188\n",
      "Epoch 31/40\n",
      "110288/110288 [==============================] - 10s 86us/step - loss: 0.2499 - acc: 0.9210 - val_loss: nan - val_acc: 0.9196\n",
      "Epoch 32/40\n",
      "110288/110288 [==============================] - 10s 86us/step - loss: 0.2463 - acc: 0.9219 - val_loss: nan - val_acc: 0.9200\n",
      "Epoch 33/40\n",
      "110288/110288 [==============================] - 10s 86us/step - loss: 0.2430 - acc: 0.9226 - val_loss: nan - val_acc: 0.9219\n",
      "Epoch 34/40\n",
      "110288/110288 [==============================] - 10s 86us/step - loss: 0.2400 - acc: 0.9234 - val_loss: nan - val_acc: 0.9226\n",
      "Epoch 35/40\n",
      "110288/110288 [==============================] - 10s 86us/step - loss: 0.2366 - acc: 0.9244 - val_loss: nan - val_acc: 0.9231\n",
      "Epoch 36/40\n",
      "110288/110288 [==============================] - 10s 86us/step - loss: 0.2336 - acc: 0.9252 - val_loss: nan - val_acc: 0.9237\n",
      "Epoch 37/40\n",
      "110288/110288 [==============================] - 10s 86us/step - loss: 0.2297 - acc: 0.9263 - val_loss: nan - val_acc: 0.9237\n",
      "Epoch 38/40\n",
      "110288/110288 [==============================] - 9s 86us/step - loss: 0.2279 - acc: 0.9268 - val_loss: nan - val_acc: 0.9249\n",
      "Epoch 39/40\n",
      "110288/110288 [==============================] - 10s 86us/step - loss: 0.2241 - acc: 0.9278 - val_loss: nan - val_acc: 0.9259\n",
      "Epoch 40/40\n",
      "110288/110288 [==============================] - 9s 86us/step - loss: 0.2231 - acc: 0.9280 - val_loss: nan - val_acc: 0.9256\n",
      "new jersey est parfois calme en l' automne et il est neigeux en avril <PAD> <PAD> <PAD> <PAD> <PAD> <PAD> <PAD>\n"
     ]
    }
   ],
   "source": [
    "def embed_model(input_shape, output_sequence_length, english_vocab_size, french_vocab_size):\n",
    "    \"\"\"\n",
    "    Build and train a RNN model using word embedding on x and y\n",
    "    :param input_shape: Tuple of input shape\n",
    "    :param output_sequence_length: Length of output sequence\n",
    "    :param english_vocab_size: Number of unique English words in the dataset\n",
    "    :param french_vocab_size: Number of unique French words in the dataset\n",
    "    :return: Keras model built, but not trained\n",
    "    \"\"\"\n",
    "    # TODO: Implement\n",
    "    model = Sequential()\n",
    "    model.add(Embedding(english_vocab_size, 200, input_length = input_shape[1]))\n",
    "    model.add(GRU(units = 128, return_sequences=True))\n",
    "    model.add(Dense(french_vocab_size, activation='softmax'))\n",
    "    \n",
    "    learning_rate = 5e-4\n",
    "    model.compile(loss=sparse_categorical_crossentropy,\n",
    "                  optimizer=Adam(learning_rate),\n",
    "                  metrics=['accuracy'])\n",
    "#     print(model.summary())\n",
    "    return model\n",
    "tests.test_embed_model(embed_model)\n",
    "\n",
    "\n",
    "# TODO: Reshape the input\n",
    "tmp_x = pad(preproc_english_sentences, max_french_sequence_length)\n",
    "\n",
    "# Train the neural network\n",
    "embed_gru_model = embed_model(\n",
    "    tmp_x.shape,\n",
    "    max_french_sequence_length,\n",
    "    english_vocab_size,\n",
    "    french_vocab_size)\n",
    "embed_gru_model.fit(tmp_x, preproc_french_sentences, batch_size=1024, epochs=40, validation_split=0.2)\n",
    "\n",
    "# Print prediction(s)\n",
    "print(logits_to_text(embed_gru_model.predict(tmp_x[:1])[0], french_tokenizer))"
   ]
  },
  {
   "cell_type": "code",
   "execution_count": 17,
   "metadata": {},
   "outputs": [
    {
     "name": "stdout",
     "output_type": "stream",
     "text": [
      "English sentence:            \n",
      " new jersey is sometimes quiet during autumn , and it is snowy in april .\n",
      "\n",
      "Predicted sentence:        \n",
      " new jersey est parfois calme en l' automne et il est neigeux en avril <PAD> <PAD> <PAD> <PAD> <PAD> <PAD> <PAD>\n",
      "\n",
      "Translate French sentence: \n",
      " new jersey est parfois calme pendant l' automne , et il est neigeux en avril .\n"
     ]
    }
   ],
   "source": [
    "print(\"English sentence:            \\n\", english_sentences[0])\n",
    "print(\"\\nPredicted sentence:        \\n\", logits_to_text(embed_gru_model.predict(tmp_x[:1])[0], french_tokenizer))\n",
    "print(\"\\nTranslate French sentence: \\n\", french_sentences[0])"
   ]
  },
  {
   "cell_type": "markdown",
   "metadata": {},
   "source": [
    "### Model 3: Bidirectional RNNs (IMPLEMENTATION)\n",
    "![RNN](images/bidirectional.png)\n",
    "One restriction of a RNN is that it can't see the future input, only the past.  This is where bidirectional recurrent neural networks come in.  They are able to see the future data."
   ]
  },
  {
   "cell_type": "code",
   "execution_count": 18,
   "metadata": {},
   "outputs": [
    {
     "name": "stdout",
     "output_type": "stream",
     "text": [
      "Train on 110288 samples, validate on 27573 samples\n",
      "Epoch 1/40\n",
      "110288/110288 [==============================] - 12s 111us/step - loss: 3.1332 - acc: 0.4726 - val_loss: nan - val_acc: 0.5579\n",
      "Epoch 2/40\n",
      "110288/110288 [==============================] - 12s 106us/step - loss: 1.8392 - acc: 0.5710 - val_loss: nan - val_acc: 0.5869\n",
      "Epoch 3/40\n",
      "110288/110288 [==============================] - 12s 106us/step - loss: 1.5724 - acc: 0.5991 - val_loss: nan - val_acc: 0.6087\n",
      "Epoch 4/40\n",
      "110288/110288 [==============================] - 12s 106us/step - loss: 1.4478 - acc: 0.6148 - val_loss: nan - val_acc: 0.6220\n",
      "Epoch 5/40\n",
      "110288/110288 [==============================] - 12s 106us/step - loss: 1.3647 - acc: 0.6262 - val_loss: nan - val_acc: 0.6324\n",
      "Epoch 6/40\n",
      "110288/110288 [==============================] - 12s 106us/step - loss: 1.3029 - acc: 0.6376 - val_loss: nan - val_acc: 0.6437\n",
      "Epoch 7/40\n",
      "110288/110288 [==============================] - 12s 106us/step - loss: 1.2551 - acc: 0.6465 - val_loss: nan - val_acc: 0.6512\n",
      "Epoch 8/40\n",
      "110288/110288 [==============================] - 12s 106us/step - loss: 1.2158 - acc: 0.6541 - val_loss: nan - val_acc: 0.6592\n",
      "Epoch 9/40\n",
      "110288/110288 [==============================] - 12s 106us/step - loss: 1.1810 - acc: 0.6615 - val_loss: nan - val_acc: 0.6647\n",
      "Epoch 10/40\n",
      "110288/110288 [==============================] - 12s 106us/step - loss: 1.1478 - acc: 0.6680 - val_loss: nan - val_acc: 0.6728\n",
      "Epoch 11/40\n",
      "110288/110288 [==============================] - 12s 106us/step - loss: 1.1192 - acc: 0.6738 - val_loss: nan - val_acc: 0.6760\n",
      "Epoch 12/40\n",
      "110288/110288 [==============================] - 12s 106us/step - loss: 1.0939 - acc: 0.6782 - val_loss: nan - val_acc: 0.6819\n",
      "Epoch 13/40\n",
      "110288/110288 [==============================] - 12s 106us/step - loss: 1.0708 - acc: 0.6828 - val_loss: nan - val_acc: 0.6845\n",
      "Epoch 14/40\n",
      "110288/110288 [==============================] - 12s 106us/step - loss: 1.0490 - acc: 0.6873 - val_loss: nan - val_acc: 0.6895\n",
      "Epoch 15/40\n",
      "110288/110288 [==============================] - 12s 106us/step - loss: 1.0287 - acc: 0.6916 - val_loss: nan - val_acc: 0.6932\n",
      "Epoch 16/40\n",
      "110288/110288 [==============================] - 12s 106us/step - loss: 1.0102 - acc: 0.6945 - val_loss: nan - val_acc: 0.6964\n",
      "Epoch 17/40\n",
      "110288/110288 [==============================] - 12s 106us/step - loss: 0.9929 - acc: 0.6973 - val_loss: nan - val_acc: 0.6975\n",
      "Epoch 18/40\n",
      "110288/110288 [==============================] - 12s 106us/step - loss: 0.9775 - acc: 0.6994 - val_loss: nan - val_acc: 0.7015\n",
      "Epoch 19/40\n",
      "110288/110288 [==============================] - 12s 106us/step - loss: 0.9629 - acc: 0.7014 - val_loss: nan - val_acc: 0.7025\n",
      "Epoch 20/40\n",
      "110288/110288 [==============================] - 12s 106us/step - loss: 0.9499 - acc: 0.7031 - val_loss: nan - val_acc: 0.7055\n",
      "Epoch 21/40\n",
      "110288/110288 [==============================] - 12s 106us/step - loss: 0.9377 - acc: 0.7052 - val_loss: nan - val_acc: 0.7059\n",
      "Epoch 22/40\n",
      "110288/110288 [==============================] - 12s 106us/step - loss: 0.9267 - acc: 0.7067 - val_loss: nan - val_acc: 0.7082\n",
      "Epoch 23/40\n",
      "110288/110288 [==============================] - 12s 106us/step - loss: 0.9159 - acc: 0.7086 - val_loss: nan - val_acc: 0.7096\n",
      "Epoch 24/40\n",
      "110288/110288 [==============================] - 12s 106us/step - loss: 0.9060 - acc: 0.7101 - val_loss: nan - val_acc: 0.7117\n",
      "Epoch 25/40\n",
      "110288/110288 [==============================] - 12s 106us/step - loss: 0.8965 - acc: 0.7118 - val_loss: nan - val_acc: 0.7107\n",
      "Epoch 26/40\n",
      "110288/110288 [==============================] - 12s 106us/step - loss: 0.8864 - acc: 0.7138 - val_loss: nan - val_acc: 0.7156\n",
      "Epoch 27/40\n",
      "110288/110288 [==============================] - 12s 106us/step - loss: 0.8775 - acc: 0.7156 - val_loss: nan - val_acc: 0.7146\n",
      "Epoch 28/40\n",
      "110288/110288 [==============================] - 12s 106us/step - loss: 0.8694 - acc: 0.7172 - val_loss: nan - val_acc: 0.7188\n",
      "Epoch 29/40\n",
      "110288/110288 [==============================] - 12s 107us/step - loss: 0.8606 - acc: 0.7189 - val_loss: nan - val_acc: 0.7192\n",
      "Epoch 30/40\n",
      "110288/110288 [==============================] - 12s 106us/step - loss: 0.8519 - acc: 0.7211 - val_loss: nan - val_acc: 0.7233\n",
      "Epoch 31/40\n",
      "110288/110288 [==============================] - 12s 106us/step - loss: 0.8443 - acc: 0.7227 - val_loss: nan - val_acc: 0.7227\n",
      "Epoch 32/40\n",
      "110288/110288 [==============================] - 12s 106us/step - loss: 0.8365 - acc: 0.7248 - val_loss: nan - val_acc: 0.7251\n",
      "Epoch 33/40\n",
      "110288/110288 [==============================] - 12s 106us/step - loss: 0.8287 - acc: 0.7273 - val_loss: nan - val_acc: 0.7278\n",
      "Epoch 34/40\n",
      "110288/110288 [==============================] - 12s 106us/step - loss: 0.8224 - acc: 0.7288 - val_loss: nan - val_acc: 0.7305\n",
      "Epoch 35/40\n",
      "110288/110288 [==============================] - 12s 106us/step - loss: 0.8139 - acc: 0.7317 - val_loss: nan - val_acc: 0.7292\n",
      "Epoch 36/40\n",
      "110288/110288 [==============================] - 12s 106us/step - loss: 0.8066 - acc: 0.7338 - val_loss: nan - val_acc: 0.7340\n",
      "Epoch 37/40\n",
      "110288/110288 [==============================] - 12s 106us/step - loss: 0.7988 - acc: 0.7368 - val_loss: nan - val_acc: 0.7362\n",
      "Epoch 38/40\n",
      "110288/110288 [==============================] - 12s 106us/step - loss: 0.7917 - acc: 0.7393 - val_loss: nan - val_acc: 0.7403\n",
      "Epoch 39/40\n",
      "110288/110288 [==============================] - 12s 106us/step - loss: 0.7855 - acc: 0.7414 - val_loss: nan - val_acc: 0.7422\n",
      "Epoch 40/40\n",
      "110288/110288 [==============================] - 12s 106us/step - loss: 0.7797 - acc: 0.7429 - val_loss: nan - val_acc: 0.7458\n",
      "new jersey est parfois calme au mois et il et il est en en <PAD> <PAD> <PAD> <PAD> <PAD> <PAD> <PAD>\n"
     ]
    }
   ],
   "source": [
    "def bd_model(input_shape, output_sequence_length, english_vocab_size, french_vocab_size):\n",
    "    \"\"\"\n",
    "    Build and train a bidirectional RNN model on x and y\n",
    "    :param input_shape: Tuple of input shape\n",
    "    :param output_sequence_length: Length of output sequence\n",
    "    :param english_vocab_size: Number of unique English words in the dataset\n",
    "    :param french_vocab_size: Number of unique French words in the dataset\n",
    "    :return: Keras model built, but not trained\n",
    "    \"\"\"\n",
    "    model = Sequential()\n",
    "    model.add(Bidirectional(GRU(units = 128, return_sequences=True), input_shape = input_shape[1:]))\n",
    "    model.add(Dense(french_vocab_size, activation='softmax'))\n",
    "    \n",
    "    learning_rate = 5e-4\n",
    "    model.compile(loss=sparse_categorical_crossentropy,\n",
    "                  optimizer=Adam(learning_rate),\n",
    "                  metrics=['accuracy'])\n",
    "#     print(model.summary())\n",
    "    return model\n",
    "tests.test_bd_model(bd_model)\n",
    "\n",
    "\n",
    "# TODO: Reshape the input\n",
    "tmp_x = pad(preproc_english_sentences, max_french_sequence_length)\n",
    "tmp_x = tmp_x.reshape((-1, preproc_french_sentences.shape[-2], 1))\n",
    "# Train the neural network\n",
    "bdd_model = bd_model(\n",
    "    tmp_x.shape,\n",
    "    max_french_sequence_length,\n",
    "    english_vocab_size,\n",
    "    french_vocab_size)\n",
    "bdd_model.fit(tmp_x, preproc_french_sentences, batch_size=1024, epochs=40, validation_split=0.2)\n",
    "\n",
    "# Print prediction(s)\n",
    "print(logits_to_text(bdd_model.predict(tmp_x[:1])[0], french_tokenizer))"
   ]
  },
  {
   "cell_type": "code",
   "execution_count": 19,
   "metadata": {},
   "outputs": [
    {
     "name": "stdout",
     "output_type": "stream",
     "text": [
      "English sentence:            \n",
      " new jersey is sometimes quiet during autumn , and it is snowy in april .\n",
      "\n",
      "Predicted sentence:        \n",
      " new jersey est parfois calme au mois et il et il est en en <PAD> <PAD> <PAD> <PAD> <PAD> <PAD> <PAD>\n",
      "\n",
      "Translate French sentence: \n",
      " new jersey est parfois calme pendant l' automne , et il est neigeux en avril .\n"
     ]
    }
   ],
   "source": [
    "print(\"English sentence:            \\n\", english_sentences[0])\n",
    "print(\"\\nPredicted sentence:        \\n\", logits_to_text(bdd_model.predict(tmp_x[:1])[0], french_tokenizer))\n",
    "print(\"\\nTranslate French sentence: \\n\", french_sentences[0])"
   ]
  },
  {
   "cell_type": "markdown",
   "metadata": {},
   "source": [
    "### Model 4: Encoder-Decoder (IMPLEMENTATION)\n",
    "Time to look at encoder-decoder models.  This model is made up of an encoder and decoder. The encoder creates a matrix representation of the sentence.  The decoder takes this matrix as input and predicts the translation as output.\n",
    "\n",
    "Create an encoder-decoder model in the cell below."
   ]
  },
  {
   "cell_type": "code",
   "execution_count": 20,
   "metadata": {},
   "outputs": [
    {
     "name": "stdout",
     "output_type": "stream",
     "text": [
      "_________________________________________________________________\n",
      "Layer (type)                 Output Shape              Param #   \n",
      "=================================================================\n",
      "input_2 (InputLayer)         (None, 21, 1)             0         \n",
      "_________________________________________________________________\n",
      "bidirectional_4 (Bidirection (None, 256)               99840     \n",
      "_________________________________________________________________\n",
      "repeat_vector_2 (RepeatVecto (None, 21, 256)           0         \n",
      "_________________________________________________________________\n",
      "gru_10 (GRU)                 (None, 21, 128)           147840    \n",
      "_________________________________________________________________\n",
      "dense_8 (Dense)              (None, 21, 344)           44376     \n",
      "=================================================================\n",
      "Total params: 292,056\n",
      "Trainable params: 292,056\n",
      "Non-trainable params: 0\n",
      "_________________________________________________________________\n",
      "Train on 110288 samples, validate on 27573 samples\n",
      "Epoch 1/40\n",
      "110288/110288 [==============================] - 18s 159us/step - loss: 3.2168 - acc: 0.4185 - val_loss: nan - val_acc: 0.4713\n",
      "Epoch 2/40\n",
      "110288/110288 [==============================] - 16s 149us/step - loss: 2.3853 - acc: 0.4887 - val_loss: nan - val_acc: 0.5024\n",
      "Epoch 3/40\n",
      "110288/110288 [==============================] - 17s 150us/step - loss: 2.1807 - acc: 0.5041 - val_loss: nan - val_acc: 0.5115\n",
      "Epoch 4/40\n",
      "110288/110288 [==============================] - 17s 150us/step - loss: 2.0141 - acc: 0.5192 - val_loss: nan - val_acc: 0.5261\n",
      "Epoch 5/40\n",
      "110288/110288 [==============================] - 17s 151us/step - loss: 1.9081 - acc: 0.5308 - val_loss: nan - val_acc: 0.5421\n",
      "Epoch 6/40\n",
      "110288/110288 [==============================] - 17s 150us/step - loss: 1.8082 - acc: 0.5539 - val_loss: nan - val_acc: 0.5623\n",
      "Epoch 7/40\n",
      "110288/110288 [==============================] - 17s 150us/step - loss: 1.7199 - acc: 0.5678 - val_loss: nan - val_acc: 0.5771\n",
      "Epoch 8/40\n",
      "110288/110288 [==============================] - 17s 150us/step - loss: 1.6496 - acc: 0.5799 - val_loss: nan - val_acc: 0.5879\n",
      "Epoch 9/40\n",
      "110288/110288 [==============================] - 17s 150us/step - loss: 1.5859 - acc: 0.5908 - val_loss: nan - val_acc: 0.5973\n",
      "Epoch 10/40\n",
      "110288/110288 [==============================] - 17s 150us/step - loss: 1.5348 - acc: 0.5983 - val_loss: nan - val_acc: 0.6015\n",
      "Epoch 11/40\n",
      "110288/110288 [==============================] - 17s 151us/step - loss: 1.4914 - acc: 0.6028 - val_loss: nan - val_acc: 0.6064\n",
      "Epoch 12/40\n",
      "110288/110288 [==============================] - 17s 150us/step - loss: 1.4555 - acc: 0.6071 - val_loss: nan - val_acc: 0.6072\n",
      "Epoch 13/40\n",
      "110288/110288 [==============================] - 17s 150us/step - loss: 1.4246 - acc: 0.6106 - val_loss: nan - val_acc: 0.6120\n",
      "Epoch 14/40\n",
      "110288/110288 [==============================] - 17s 151us/step - loss: 1.3932 - acc: 0.6156 - val_loss: nan - val_acc: 0.6194\n",
      "Epoch 15/40\n",
      "110288/110288 [==============================] - 17s 151us/step - loss: 1.3657 - acc: 0.6204 - val_loss: nan - val_acc: 0.6245\n",
      "Epoch 16/40\n",
      "110288/110288 [==============================] - 17s 150us/step - loss: 1.3414 - acc: 0.6246 - val_loss: nan - val_acc: 0.6254\n",
      "Epoch 17/40\n",
      "110288/110288 [==============================] - 17s 151us/step - loss: 1.3172 - acc: 0.6316 - val_loss: nan - val_acc: 0.6348\n",
      "Epoch 18/40\n",
      "110288/110288 [==============================] - 17s 150us/step - loss: 1.2929 - acc: 0.6383 - val_loss: nan - val_acc: 0.6404\n",
      "Epoch 19/40\n",
      "110288/110288 [==============================] - 17s 151us/step - loss: 1.2679 - acc: 0.6441 - val_loss: nan - val_acc: 0.6485\n",
      "Epoch 20/40\n",
      "110288/110288 [==============================] - 17s 151us/step - loss: 1.2569 - acc: 0.6458 - val_loss: nan - val_acc: 0.6500\n",
      "Epoch 21/40\n",
      "110288/110288 [==============================] - 17s 151us/step - loss: 1.2328 - acc: 0.6511 - val_loss: nan - val_acc: 0.6551\n",
      "Epoch 22/40\n",
      "110288/110288 [==============================] - 17s 150us/step - loss: 1.2104 - acc: 0.6560 - val_loss: nan - val_acc: 0.6573\n",
      "Epoch 23/40\n",
      "110288/110288 [==============================] - 17s 151us/step - loss: 1.1950 - acc: 0.6591 - val_loss: nan - val_acc: 0.6597\n",
      "Epoch 24/40\n",
      "110288/110288 [==============================] - 17s 150us/step - loss: 1.1825 - acc: 0.6625 - val_loss: nan - val_acc: 0.6650\n",
      "Epoch 25/40\n",
      "110288/110288 [==============================] - 17s 151us/step - loss: 1.1660 - acc: 0.6660 - val_loss: nan - val_acc: 0.6674\n",
      "Epoch 26/40\n",
      "110288/110288 [==============================] - 17s 150us/step - loss: 1.1544 - acc: 0.6690 - val_loss: nan - val_acc: 0.6707\n",
      "Epoch 27/40\n",
      "110288/110288 [==============================] - 17s 151us/step - loss: 1.1446 - acc: 0.6721 - val_loss: nan - val_acc: 0.6734\n",
      "Epoch 28/40\n",
      "110288/110288 [==============================] - 17s 150us/step - loss: 1.1347 - acc: 0.6747 - val_loss: nan - val_acc: 0.6739\n",
      "Epoch 29/40\n",
      "110288/110288 [==============================] - 17s 151us/step - loss: 1.1342 - acc: 0.6742 - val_loss: nan - val_acc: 0.6783\n",
      "Epoch 30/40\n",
      "110288/110288 [==============================] - 17s 151us/step - loss: 1.1125 - acc: 0.6788 - val_loss: nan - val_acc: 0.6801\n",
      "Epoch 31/40\n",
      "110288/110288 [==============================] - 17s 151us/step - loss: 1.1027 - acc: 0.6805 - val_loss: nan - val_acc: 0.6798\n",
      "Epoch 32/40\n",
      "110288/110288 [==============================] - 17s 150us/step - loss: 1.0947 - acc: 0.6809 - val_loss: nan - val_acc: 0.6824\n",
      "Epoch 33/40\n",
      "110288/110288 [==============================] - 17s 151us/step - loss: 1.0835 - acc: 0.6827 - val_loss: nan - val_acc: 0.6822\n",
      "Epoch 34/40\n",
      "110288/110288 [==============================] - 17s 150us/step - loss: 1.0744 - acc: 0.6842 - val_loss: nan - val_acc: 0.6832\n",
      "Epoch 35/40\n",
      "110288/110288 [==============================] - 17s 151us/step - loss: 1.0657 - acc: 0.6858 - val_loss: nan - val_acc: 0.6854\n",
      "Epoch 36/40\n",
      "110288/110288 [==============================] - 17s 151us/step - loss: 1.0563 - acc: 0.6872 - val_loss: nan - val_acc: 0.6828\n",
      "Epoch 37/40\n",
      "110288/110288 [==============================] - 17s 151us/step - loss: 1.0502 - acc: 0.6885 - val_loss: nan - val_acc: 0.6887\n",
      "Epoch 38/40\n",
      "110288/110288 [==============================] - 17s 151us/step - loss: 1.0444 - acc: 0.6893 - val_loss: nan - val_acc: 0.6904\n",
      "Epoch 39/40\n",
      "110288/110288 [==============================] - 17s 151us/step - loss: 1.0353 - acc: 0.6912 - val_loss: nan - val_acc: 0.6919\n",
      "Epoch 40/40\n",
      "110288/110288 [==============================] - 17s 150us/step - loss: 1.0298 - acc: 0.6925 - val_loss: nan - val_acc: 0.6904\n",
      "new jersey est jamais froid en l' et il est en en en <PAD> <PAD> <PAD> <PAD> <PAD> <PAD> <PAD> <PAD>\n"
     ]
    }
   ],
   "source": [
    "def encdec_model(input_shape, output_sequence_length, english_vocab_size, french_vocab_size):\n",
    "    \"\"\"\n",
    "    Build and train an encoder-decoder model on x and y\n",
    "    :param input_shape: Tuple of input shape\n",
    "    :param output_sequence_length: Length of output sequence\n",
    "    :param english_vocab_size: Number of unique English words in the dataset\n",
    "    :param french_vocab_size: Number of unique French words in the dataset\n",
    "    :return: Keras model built, but not trained\n",
    "    \"\"\"\n",
    "    # TODO: Implement\n",
    "    inputs = Input(shape = (input_shape[1:]))\n",
    "\n",
    "    # feed embedding vector into Bidirectional GRU, output 2D\n",
    "    encoder = Bidirectional(GRU(units = 128, return_sequences= False))(inputs)\n",
    "\n",
    "    \n",
    "    # Feed 2D output of the previous layer to the 3D input\n",
    "    repeat_encoder = RepeatVector(output_sequence_length)(encoder)\n",
    "\n",
    "    \n",
    "    x = GRU(units = 128, return_sequences = True)(repeat_encoder)\n",
    "\n",
    "    outputs = Dense(french_vocab_size, activation='softmax')(x)\n",
    "\n",
    "    model = Model (inputs, outputs)\n",
    "\n",
    "    \n",
    "    learning_rate = 5e-4\n",
    "    model.compile(loss=sparse_categorical_crossentropy,\n",
    "                  optimizer=Adam(learning_rate),\n",
    "                  metrics=['accuracy'])\n",
    "    return model\n",
    "tests.test_encdec_model(encdec_model)\n",
    "\n",
    "\n",
    "# # TODO: Reshape the input\n",
    "tmp_x = pad(preproc_english_sentences, max_french_sequence_length)\n",
    "tmp_x = tmp_x.reshape((-1, preproc_french_sentences.shape[-2], 1))\n",
    "# Train the neural network\n",
    "encdec_model_ = encdec_model(\n",
    "    tmp_x.shape,\n",
    "    max_french_sequence_length,\n",
    "    english_vocab_size,\n",
    "    french_vocab_size)\n",
    "\n",
    "encdec_model_.summary()\n",
    "encdec_model_.fit(tmp_x, preproc_french_sentences, batch_size=1024, epochs=40, validation_split=0.2)\n",
    "\n",
    "# # Print prediction(s)\n",
    "print(logits_to_text(encdec_model_.predict(tmp_x[:1])[0], french_tokenizer))"
   ]
  },
  {
   "cell_type": "code",
   "execution_count": 21,
   "metadata": {},
   "outputs": [
    {
     "data": {
      "text/plain": [
       "(21, 1)"
      ]
     },
     "execution_count": 21,
     "metadata": {},
     "output_type": "execute_result"
    }
   ],
   "source": [
    "tmp_x.shape[1:]"
   ]
  },
  {
   "cell_type": "code",
   "execution_count": 22,
   "metadata": {},
   "outputs": [
    {
     "name": "stdout",
     "output_type": "stream",
     "text": [
      "English sentence:            \n",
      " new jersey is sometimes quiet during autumn , and it is snowy in april .\n",
      "\n",
      "Predicted sentence:        \n",
      " new jersey est jamais froid en l' et il est en en en <PAD> <PAD> <PAD> <PAD> <PAD> <PAD> <PAD> <PAD>\n",
      "\n",
      "Translate French sentence: \n",
      " new jersey est parfois calme pendant l' automne , et il est neigeux en avril .\n"
     ]
    }
   ],
   "source": [
    "print(\"English sentence:            \\n\", english_sentences[0])\n",
    "print(\"\\nPredicted sentence:        \\n\", logits_to_text(encdec_model_.predict(tmp_x[:1])[0], french_tokenizer))\n",
    "print(\"\\nTranslate French sentence: \\n\", french_sentences[0])"
   ]
  },
  {
   "cell_type": "markdown",
   "metadata": {},
   "source": [
    "### Model 5: Custom (IMPLEMENTATION)\n",
    "Use everything you learned from the previous models to create a model that incorporates embedding and a bidirectional rnn into one model."
   ]
  },
  {
   "cell_type": "code",
   "execution_count": 23,
   "metadata": {},
   "outputs": [
    {
     "name": "stdout",
     "output_type": "stream",
     "text": [
      "(?, 256)\n",
      "Final Model Loaded\n",
      "(?, 256)\n",
      "_________________________________________________________________\n",
      "Layer (type)                 Output Shape              Param #   \n",
      "=================================================================\n",
      "input_4 (InputLayer)         (None, 21)                0         \n",
      "_________________________________________________________________\n",
      "embedding_4 (Embedding)      (None, 21, 200)           39800     \n",
      "_________________________________________________________________\n",
      "bidirectional_6 (Bidirection (None, 256)               252672    \n",
      "_________________________________________________________________\n",
      "repeat_vector_4 (RepeatVecto (None, 21, 256)           0         \n",
      "_________________________________________________________________\n",
      "gru_14 (GRU)                 (None, 21, 128)           147840    \n",
      "_________________________________________________________________\n",
      "time_distributed_2 (TimeDist (None, 21, 688)           88752     \n",
      "_________________________________________________________________\n",
      "dense_12 (Dense)             (None, 21, 344)           237016    \n",
      "=================================================================\n",
      "Total params: 766,080\n",
      "Trainable params: 766,080\n",
      "Non-trainable params: 0\n",
      "_________________________________________________________________\n",
      "Train on 110288 samples, validate on 27573 samples\n",
      "Epoch 1/40\n",
      "110288/110288 [==============================] - 24s 218us/step - loss: 3.2482 - acc: 0.4200 - val_loss: nan - val_acc: 0.4761\n",
      "Epoch 2/40\n",
      "110288/110288 [==============================] - 23s 207us/step - loss: 2.1140 - acc: 0.4981 - val_loss: nan - val_acc: 0.5247\n",
      "Epoch 3/40\n",
      "110288/110288 [==============================] - 23s 207us/step - loss: 1.7397 - acc: 0.5552 - val_loss: nan - val_acc: 0.5919\n",
      "Epoch 4/40\n",
      "110288/110288 [==============================] - 23s 207us/step - loss: 1.4693 - acc: 0.6078 - val_loss: nan - val_acc: 0.6297\n",
      "Epoch 5/40\n",
      "110288/110288 [==============================] - 23s 207us/step - loss: 1.3501 - acc: 0.6387 - val_loss: nan - val_acc: 0.6515\n",
      "Epoch 6/40\n",
      "110288/110288 [==============================] - 23s 207us/step - loss: 1.2672 - acc: 0.6559 - val_loss: nan - val_acc: 0.6648\n",
      "Epoch 7/40\n",
      "110288/110288 [==============================] - 23s 207us/step - loss: 1.1963 - acc: 0.6694 - val_loss: nan - val_acc: 0.6763\n",
      "Epoch 8/40\n",
      "110288/110288 [==============================] - 23s 207us/step - loss: 1.1101 - acc: 0.6886 - val_loss: nan - val_acc: 0.6998\n",
      "Epoch 9/40\n",
      "110288/110288 [==============================] - 23s 207us/step - loss: 1.0283 - acc: 0.7083 - val_loss: nan - val_acc: 0.7167\n",
      "Epoch 10/40\n",
      "110288/110288 [==============================] - 23s 207us/step - loss: 0.9684 - acc: 0.7220 - val_loss: nan - val_acc: 0.7276\n",
      "Epoch 11/40\n",
      "110288/110288 [==============================] - 23s 207us/step - loss: 0.9256 - acc: 0.7309 - val_loss: nan - val_acc: 0.7330\n",
      "Epoch 12/40\n",
      "110288/110288 [==============================] - 23s 207us/step - loss: 0.8939 - acc: 0.7375 - val_loss: nan - val_acc: 0.7411\n",
      "Epoch 13/40\n",
      "110288/110288 [==============================] - 23s 208us/step - loss: 0.8575 - acc: 0.7449 - val_loss: nan - val_acc: 0.7450\n",
      "Epoch 14/40\n",
      "110288/110288 [==============================] - 23s 207us/step - loss: 0.8323 - acc: 0.7509 - val_loss: nan - val_acc: 0.7557\n",
      "Epoch 15/40\n",
      "110288/110288 [==============================] - 23s 207us/step - loss: 0.7947 - acc: 0.7606 - val_loss: nan - val_acc: 0.7635\n",
      "Epoch 16/40\n",
      "110288/110288 [==============================] - 23s 207us/step - loss: 0.7660 - acc: 0.7689 - val_loss: nan - val_acc: 0.7728\n",
      "Epoch 17/40\n",
      "110288/110288 [==============================] - 23s 207us/step - loss: 0.7334 - acc: 0.7790 - val_loss: nan - val_acc: 0.7828\n",
      "Epoch 18/40\n",
      "110288/110288 [==============================] - 23s 207us/step - loss: 0.7054 - acc: 0.7877 - val_loss: nan - val_acc: 0.7925\n",
      "Epoch 19/40\n",
      "110288/110288 [==============================] - 23s 208us/step - loss: 0.6776 - acc: 0.7962 - val_loss: nan - val_acc: 0.8019\n",
      "Epoch 20/40\n",
      "110288/110288 [==============================] - 23s 207us/step - loss: 0.6500 - acc: 0.8045 - val_loss: nan - val_acc: 0.8089\n",
      "Epoch 21/40\n",
      "110288/110288 [==============================] - 23s 207us/step - loss: 0.6245 - acc: 0.8118 - val_loss: nan - val_acc: 0.8150\n",
      "Epoch 22/40\n",
      "110288/110288 [==============================] - 23s 207us/step - loss: 0.6017 - acc: 0.8184 - val_loss: nan - val_acc: 0.8179\n",
      "Epoch 23/40\n",
      "110288/110288 [==============================] - 23s 207us/step - loss: 0.5788 - acc: 0.8251 - val_loss: nan - val_acc: 0.8300\n",
      "Epoch 24/40\n",
      "110288/110288 [==============================] - 23s 208us/step - loss: 0.5555 - acc: 0.8326 - val_loss: nan - val_acc: 0.8366\n",
      "Epoch 25/40\n",
      "110288/110288 [==============================] - 23s 207us/step - loss: 0.5324 - acc: 0.8400 - val_loss: nan - val_acc: 0.8447\n",
      "Epoch 26/40\n",
      "110288/110288 [==============================] - 23s 208us/step - loss: 0.5067 - acc: 0.8483 - val_loss: nan - val_acc: 0.8480\n",
      "Epoch 27/40\n",
      "110288/110288 [==============================] - 23s 208us/step - loss: 0.4861 - acc: 0.8549 - val_loss: nan - val_acc: 0.8564\n",
      "Epoch 28/40\n",
      "110288/110288 [==============================] - 23s 208us/step - loss: 0.4663 - acc: 0.8612 - val_loss: nan - val_acc: 0.8657\n",
      "Epoch 29/40\n",
      "110288/110288 [==============================] - 23s 208us/step - loss: 0.4449 - acc: 0.8691 - val_loss: nan - val_acc: 0.8701\n",
      "Epoch 30/40\n",
      "110288/110288 [==============================] - 23s 208us/step - loss: 0.4267 - acc: 0.8756 - val_loss: nan - val_acc: 0.8799\n",
      "Epoch 31/40\n",
      "110288/110288 [==============================] - 23s 208us/step - loss: 0.4025 - acc: 0.8845 - val_loss: nan - val_acc: 0.8879\n",
      "Epoch 32/40\n",
      "110288/110288 [==============================] - 23s 207us/step - loss: 0.3798 - acc: 0.8922 - val_loss: nan - val_acc: 0.8906\n",
      "Epoch 33/40\n",
      "110288/110288 [==============================] - 23s 208us/step - loss: 0.3605 - acc: 0.8982 - val_loss: nan - val_acc: 0.8993\n",
      "Epoch 34/40\n",
      "110288/110288 [==============================] - 23s 208us/step - loss: 0.3398 - acc: 0.9042 - val_loss: nan - val_acc: 0.9065\n",
      "Epoch 35/40\n",
      "110288/110288 [==============================] - 23s 208us/step - loss: 0.3255 - acc: 0.9075 - val_loss: nan - val_acc: 0.9119\n",
      "Epoch 36/40\n",
      "110288/110288 [==============================] - 23s 208us/step - loss: 0.3023 - acc: 0.9146 - val_loss: nan - val_acc: 0.9165\n",
      "Epoch 37/40\n",
      "110288/110288 [==============================] - 23s 208us/step - loss: 0.2859 - acc: 0.9193 - val_loss: nan - val_acc: 0.9184\n",
      "Epoch 38/40\n",
      "110288/110288 [==============================] - 23s 208us/step - loss: 0.2744 - acc: 0.9225 - val_loss: nan - val_acc: 0.9184\n",
      "Epoch 39/40\n",
      "110288/110288 [==============================] - 23s 208us/step - loss: 0.2601 - acc: 0.9269 - val_loss: nan - val_acc: 0.9267\n",
      "Epoch 40/40\n",
      "110288/110288 [==============================] - 23s 208us/step - loss: 0.2486 - acc: 0.9306 - val_loss: nan - val_acc: 0.9302\n",
      "new jersey est parfois calme au cours et l' automne et chaud en chaud <PAD> <PAD> <PAD> <PAD> <PAD> <PAD> <PAD>\n"
     ]
    }
   ],
   "source": [
    "def model_final(input_shape, output_sequence_length, english_vocab_size, french_vocab_size):\n",
    "    \"\"\"\n",
    "    Build and train a model that incorporates embedding, encoder-decoder, and bidirectional RNN on x and y\n",
    "    :param input_shape: Tuple of input shape\n",
    "    :param output_sequence_length: Length of output sequence\n",
    "    :param english_vocab_size: Number of unique English words in the dataset\n",
    "    :param french_vocab_size: Number of unique French words in the dataset\n",
    "    :return: Keras model built, but not trained\n",
    "    \"\"\"\n",
    "    inputs = Input(shape = input_shape[1:])\n",
    "    \n",
    "    emb = Embedding(english_vocab_size, 200)(inputs)\n",
    "    \n",
    "    x = Bidirectional(GRU(units = 128, return_sequences=False))(emb)\n",
    "    print(x.shape)\n",
    "    \n",
    "    # Feed 2D output of the previous layer to the 3D input\n",
    "    x = RepeatVector(output_sequence_length)(x)\n",
    "    \n",
    "    x = GRU(units = 128, return_sequences = True)(x)\n",
    "    \n",
    "    x = TimeDistributed(Dense(french_vocab_size*2))(x)\n",
    "    out = Dense(french_vocab_size, activation='softmax')(x)\n",
    "    \n",
    "    model = Model(inputs, out)\n",
    "    \n",
    "    learning_rate = 5e-4\n",
    "    model.compile(loss=sparse_categorical_crossentropy,\n",
    "                  optimizer=Adam(learning_rate),\n",
    "                  metrics=['accuracy'])\n",
    "\n",
    "    return model\n",
    "tests.test_model_final(model_final)\n",
    "\n",
    "\n",
    "print('Final Model Loaded')\n",
    "# TODO: Train the final model\n",
    "              \n",
    "tmp_x = pad(preproc_english_sentences, max_french_sequence_length)\n",
    "\n",
    "# Train the neural network\n",
    "final_model_ = model_final(\n",
    "    tmp_x.shape,\n",
    "    max_french_sequence_length,\n",
    "    english_vocab_size,\n",
    "    french_vocab_size)\n",
    "\n",
    "final_model_.summary()\n",
    "\n",
    "\n",
    "final_model_.fit(tmp_x, preproc_french_sentences, batch_size=1024, epochs=40, validation_split=0.2)\n",
    "\n",
    "# Print prediction(s)\n",
    "print(logits_to_text(final_model_.predict(tmp_x[:1])[0], french_tokenizer))"
   ]
  },
  {
   "cell_type": "code",
   "execution_count": 24,
   "metadata": {},
   "outputs": [
    {
     "name": "stdout",
     "output_type": "stream",
     "text": [
      "English sentence:            \n",
      " new jersey is sometimes quiet during autumn , and it is snowy in april .\n",
      "\n",
      "Predicted sentence:        \n",
      " new jersey est parfois calme au cours et l' automne et chaud en chaud <PAD> <PAD> <PAD> <PAD> <PAD> <PAD> <PAD>\n",
      "\n",
      "Translate French sentence: \n",
      " new jersey est parfois calme pendant l' automne , et il est neigeux en avril .\n"
     ]
    }
   ],
   "source": [
    "print(\"English sentence:            \\n\", english_sentences[0])\n",
    "print(\"\\nPredicted sentence:        \\n\", logits_to_text(final_model_.predict(tmp_x[:1])[0], french_tokenizer))\n",
    "print(\"\\nTranslate French sentence: \\n\", french_sentences[0])"
   ]
  },
  {
   "cell_type": "markdown",
   "metadata": {},
   "source": [
    "## Prediction (IMPLEMENTATION)"
   ]
  },
  {
   "cell_type": "code",
   "execution_count": 27,
   "metadata": {},
   "outputs": [
    {
     "name": "stdout",
     "output_type": "stream",
     "text": [
      "(?, 256)\n",
      "_________________________________________________________________\n",
      "Layer (type)                 Output Shape              Param #   \n",
      "=================================================================\n",
      "input_6 (InputLayer)         (None, 15)                0         \n",
      "_________________________________________________________________\n",
      "embedding_6 (Embedding)      (None, 15, 200)           40000     \n",
      "_________________________________________________________________\n",
      "bidirectional_8 (Bidirection (None, 256)               252672    \n",
      "_________________________________________________________________\n",
      "repeat_vector_6 (RepeatVecto (None, 21, 256)           0         \n",
      "_________________________________________________________________\n",
      "gru_18 (GRU)                 (None, 21, 128)           147840    \n",
      "_________________________________________________________________\n",
      "time_distributed_4 (TimeDist (None, 21, 690)           89010     \n",
      "_________________________________________________________________\n",
      "dense_16 (Dense)             (None, 21, 345)           238395    \n",
      "=================================================================\n",
      "Total params: 767,917\n",
      "Trainable params: 767,917\n",
      "Non-trainable params: 0\n",
      "_________________________________________________________________\n",
      "Train on 110288 samples, validate on 27573 samples\n",
      "Epoch 1/40\n",
      "110288/110288 [==============================] - 70s 632us/step - loss: 1.8384 - acc: 0.5626 - val_loss: 1.3210 - val_acc: 0.6469\n",
      "Epoch 2/40\n",
      "110288/110288 [==============================] - 68s 619us/step - loss: 1.0786 - acc: 0.6998 - val_loss: 0.9354 - val_acc: 0.7279\n",
      "Epoch 3/40\n",
      "110288/110288 [==============================] - 68s 619us/step - loss: 0.8295 - acc: 0.7550 - val_loss: 0.7274 - val_acc: 0.7837\n",
      "Epoch 4/40\n",
      "110288/110288 [==============================] - 68s 618us/step - loss: 0.6562 - acc: 0.8044 - val_loss: 0.6049 - val_acc: 0.8174\n",
      "Epoch 5/40\n",
      "110288/110288 [==============================] - 68s 618us/step - loss: 0.5288 - acc: 0.8406 - val_loss: 0.4655 - val_acc: 0.8582\n",
      "Epoch 6/40\n",
      "110288/110288 [==============================] - 68s 617us/step - loss: 0.4050 - acc: 0.8790 - val_loss: 0.3446 - val_acc: 0.9004\n",
      "Epoch 7/40\n",
      "110288/110288 [==============================] - 68s 618us/step - loss: 0.3119 - acc: 0.9084 - val_loss: 0.2908 - val_acc: 0.9151\n",
      "Epoch 8/40\n",
      "110288/110288 [==============================] - 68s 618us/step - loss: 0.2516 - acc: 0.9259 - val_loss: 0.2364 - val_acc: 0.9297\n",
      "Epoch 9/40\n",
      "110288/110288 [==============================] - 68s 618us/step - loss: 0.2156 - acc: 0.9359 - val_loss: 0.2201 - val_acc: 0.9345\n",
      "Epoch 10/40\n",
      "110288/110288 [==============================] - 68s 617us/step - loss: 0.1903 - acc: 0.9432 - val_loss: 0.1836 - val_acc: 0.9455\n",
      "Epoch 11/40\n",
      "110288/110288 [==============================] - 68s 618us/step - loss: 0.1698 - acc: 0.9493 - val_loss: 0.1751 - val_acc: 0.9485\n",
      "Epoch 12/40\n",
      "110288/110288 [==============================] - 68s 617us/step - loss: 0.1547 - acc: 0.9536 - val_loss: 0.1656 - val_acc: 0.9507\n",
      "Epoch 13/40\n",
      "110288/110288 [==============================] - 68s 618us/step - loss: 0.1437 - acc: 0.9568 - val_loss: 0.1429 - val_acc: 0.9572\n",
      "Epoch 14/40\n",
      "110288/110288 [==============================] - 68s 618us/step - loss: 0.1332 - acc: 0.9599 - val_loss: 0.1337 - val_acc: 0.9605\n",
      "Epoch 15/40\n",
      "110288/110288 [==============================] - 68s 617us/step - loss: 0.1237 - acc: 0.9628 - val_loss: 0.1263 - val_acc: 0.9623\n",
      "Epoch 16/40\n",
      "110288/110288 [==============================] - 68s 617us/step - loss: 0.1152 - acc: 0.9652 - val_loss: 0.1187 - val_acc: 0.9652\n",
      "Epoch 17/40\n",
      "110288/110288 [==============================] - 68s 619us/step - loss: 0.1066 - acc: 0.9680 - val_loss: 0.1209 - val_acc: 0.9645\n",
      "Epoch 18/40\n",
      "110288/110288 [==============================] - 68s 619us/step - loss: 0.1011 - acc: 0.9696 - val_loss: 0.1160 - val_acc: 0.9663\n",
      "Epoch 19/40\n",
      "110288/110288 [==============================] - 68s 619us/step - loss: 0.0944 - acc: 0.9717 - val_loss: 0.1143 - val_acc: 0.9669\n",
      "Epoch 20/40\n",
      "110288/110288 [==============================] - 68s 618us/step - loss: 0.0883 - acc: 0.9735 - val_loss: 0.1044 - val_acc: 0.9698\n",
      "Epoch 21/40\n",
      "110288/110288 [==============================] - 68s 621us/step - loss: 0.0843 - acc: 0.9748 - val_loss: 0.1078 - val_acc: 0.9686\n",
      "Epoch 22/40\n",
      "110288/110288 [==============================] - 68s 619us/step - loss: 0.0814 - acc: 0.9760 - val_loss: 0.0918 - val_acc: 0.9741\n",
      "Epoch 23/40\n",
      "110288/110288 [==============================] - 68s 619us/step - loss: 0.0757 - acc: 0.9774 - val_loss: 0.0993 - val_acc: 0.9729\n",
      "Epoch 24/40\n",
      "110288/110288 [==============================] - 68s 619us/step - loss: 0.0732 - acc: 0.9783 - val_loss: 0.0888 - val_acc: 0.9751\n",
      "Epoch 25/40\n",
      "110288/110288 [==============================] - 68s 619us/step - loss: 0.0681 - acc: 0.9797 - val_loss: 0.0846 - val_acc: 0.9763\n",
      "Epoch 26/40\n",
      "110288/110288 [==============================] - 68s 620us/step - loss: 0.0645 - acc: 0.9811 - val_loss: 0.0851 - val_acc: 0.9764\n",
      "Epoch 27/40\n",
      "110288/110288 [==============================] - 68s 618us/step - loss: 0.0639 - acc: 0.9813 - val_loss: 0.0883 - val_acc: 0.9766\n",
      "Epoch 28/40\n",
      "110288/110288 [==============================] - 68s 618us/step - loss: 0.0619 - acc: 0.9821 - val_loss: 0.0803 - val_acc: 0.9780\n",
      "Epoch 29/40\n",
      "110288/110288 [==============================] - 68s 617us/step - loss: 0.0596 - acc: 0.9828 - val_loss: 0.0929 - val_acc: 0.9755\n",
      "Epoch 30/40\n",
      "110288/110288 [==============================] - 68s 619us/step - loss: 0.0554 - acc: 0.9839 - val_loss: 0.0810 - val_acc: 0.9780\n",
      "Epoch 31/40\n",
      "110288/110288 [==============================] - 68s 618us/step - loss: 0.0538 - acc: 0.9844 - val_loss: 0.0846 - val_acc: 0.9783\n",
      "Epoch 32/40\n",
      "110288/110288 [==============================] - 68s 618us/step - loss: 0.0508 - acc: 0.9853 - val_loss: 0.1176 - val_acc: 0.9712\n",
      "Epoch 33/40\n",
      "110288/110288 [==============================] - 68s 618us/step - loss: 0.0539 - acc: 0.9847 - val_loss: 0.0734 - val_acc: 0.9802\n",
      "Epoch 34/40\n",
      "110288/110288 [==============================] - 68s 618us/step - loss: 0.0463 - acc: 0.9867 - val_loss: 0.0743 - val_acc: 0.9801\n",
      "Epoch 35/40\n",
      "110288/110288 [==============================] - 68s 619us/step - loss: 0.0488 - acc: 0.9861 - val_loss: 0.0825 - val_acc: 0.9781\n",
      "Epoch 36/40\n",
      "110288/110288 [==============================] - 68s 618us/step - loss: 0.0456 - acc: 0.9870 - val_loss: 0.0781 - val_acc: 0.9804\n",
      "Epoch 37/40\n",
      "110288/110288 [==============================] - 68s 617us/step - loss: 0.0437 - acc: 0.9876 - val_loss: 0.0739 - val_acc: 0.9808\n",
      "Epoch 38/40\n",
      "110288/110288 [==============================] - 68s 618us/step - loss: 0.0430 - acc: 0.9878 - val_loss: 0.0800 - val_acc: 0.9799\n",
      "Epoch 39/40\n",
      "110288/110288 [==============================] - 68s 619us/step - loss: 0.0381 - acc: 0.9892 - val_loss: 0.0693 - val_acc: 0.9828\n",
      "Epoch 40/40\n",
      "110288/110288 [==============================] - 68s 618us/step - loss: 0.0425 - acc: 0.9881 - val_loss: 0.0755 - val_acc: 0.9818\n",
      "Sample 1:\n",
      "il a vu un vieux camion jaune <PAD> <PAD> <PAD> <PAD> <PAD> <PAD> <PAD> <PAD> <PAD> <PAD> <PAD> <PAD> <PAD> <PAD>\n",
      "Il a vu un vieux camion jaune\n",
      "Sample 2:\n",
      "new jersey est parfois calme pendant l' automne et il est neigeux en avril <PAD> <PAD> <PAD> <PAD> <PAD> <PAD> <PAD>\n",
      "new jersey est parfois calme pendant l' automne et il est neigeux en avril <PAD> <PAD> <PAD> <PAD> <PAD> <PAD> <PAD>\n"
     ]
    }
   ],
   "source": [
    "def final_predictions(x, y, x_tk, y_tk):\n",
    "    \"\"\"\n",
    "    Gets predictions using the final model\n",
    "    :param x: Preprocessed English data\n",
    "    :param y: Preprocessed French data\n",
    "    :param x_tk: English tokenizer\n",
    "    :param y_tk: French tokenizer\n",
    "    \"\"\"\n",
    "    # TODO: Train neural network using model_final\n",
    "    model = model_final(\n",
    "        x.shape,\n",
    "        y.shape[1],\n",
    "        len(x_tk.word_index) + 1,\n",
    "        len(y_tk.word_index) + 1)\n",
    "    model.summary()\n",
    "\n",
    "    model.fit(x, y, batch_size = 128, epochs = 40, validation_split=0.2)\n",
    "    \n",
    "    ## DON'T EDIT ANYTHING BELOW THIS LINE\n",
    "    y_id_to_word = {value: key for key, value in y_tk.word_index.items()}\n",
    "    y_id_to_word[0] = '<PAD>'\n",
    "\n",
    "    sentence = 'he saw a old yellow truck'\n",
    "    sentence = [x_tk.word_index[word] for word in sentence.split()]\n",
    "    sentence = pad_sequences([sentence], maxlen=x.shape[-1], padding='post')\n",
    "    sentences = np.array([sentence[0], x[0]])\n",
    "    predictions = model.predict(sentences, len(sentences))\n",
    "\n",
    "    print('Sample 1:')\n",
    "    print(' '.join([y_id_to_word[np.argmax(x)] for x in predictions[0]]))\n",
    "    print('Il a vu un vieux camion jaune')\n",
    "    print('Sample 2:')\n",
    "    print(' '.join([y_id_to_word[np.argmax(x)] for x in predictions[1]]))\n",
    "    print(' '.join([y_id_to_word[np.max(x)] for x in y[0]]))\n",
    "\n",
    "\n",
    "final_predictions(preproc_english_sentences, preproc_french_sentences, english_tokenizer, french_tokenizer)"
   ]
  },
  {
   "cell_type": "markdown",
   "metadata": {},
   "source": [
    "## Submission\n",
    "When you're ready to submit, complete the following steps:\n",
    "1. Review the rubric to ensure your submission meets all requirements to pass\n",
    "2. Generate an HTML version of this notebook\n",
    "\n",
    "  - Run the next cell to attempt automatic generation (this is the recommended method in Workspaces)\n",
    "  - Navigate to **FILE -> Download as -> HTML (.html)**\n",
    "  - Manually generate a copy using `nbconvert` from your shell terminal\n",
    "```\n",
    "$ pip install nbconvert\n",
    "$ python -m nbconvert machine_translation.ipynb\n",
    "```\n",
    "  \n",
    "3. Submit the project\n",
    "\n",
    "  - If you are in a Workspace, simply click the \"Submit Project\" button (bottom towards the right)\n",
    "  \n",
    "  - Otherwise, add the following files into a zip archive and submit them \n",
    "  - `helper.py`\n",
    "  - `machine_translation.ipynb`\n",
    "  - `machine_translation.html`\n",
    "    - You can export the notebook by navigating to **File -> Download as -> HTML (.html)**."
   ]
  },
  {
   "cell_type": "markdown",
   "metadata": {},
   "source": [
    "### Generate the html\n",
    "\n",
    "**Save your notebook before running the next cell to generate the HTML output.** Then submit your project."
   ]
  },
  {
   "cell_type": "code",
   "execution_count": 28,
   "metadata": {},
   "outputs": [
    {
     "data": {
      "text/plain": [
       "['[NbConvertApp] Converting notebook machine_translation.ipynb to html',\n",
       " '[NbConvertApp] Writing 412708 bytes to machine_translation.html',\n",
       " '[NbConvertApp] Converting notebook machine_translation-zh.ipynb to html',\n",
       " '[NbConvertApp] Writing 328544 bytes to machine_translation-zh.html']"
      ]
     },
     "execution_count": 28,
     "metadata": {},
     "output_type": "execute_result"
    }
   ],
   "source": [
    "# Save before you run this cell!\n",
    "!!jupyter nbconvert *.ipynb"
   ]
  },
  {
   "cell_type": "markdown",
   "metadata": {},
   "source": [
    "## Optional Enhancements\n",
    "\n",
    "This project focuses on learning various network architectures for machine translation, but we don't evaluate the models according to best practices by splitting the data into separate test & training sets -- so the model accuracy is overstated. Use the [`sklearn.model_selection.train_test_split()`](http://scikit-learn.org/stable/modules/generated/sklearn.model_selection.train_test_split.html) function to create separate training & test datasets, then retrain each of the models using only the training set and evaluate the prediction accuracy using the hold out test set. Does the \"best\" model change?"
   ]
  }
 ],
 "metadata": {
  "kernelspec": {
   "display_name": "Python 3",
   "language": "python",
   "name": "python3"
  },
  "language_info": {
   "codemirror_mode": {
    "name": "ipython",
    "version": 3
   },
   "file_extension": ".py",
   "mimetype": "text/x-python",
   "name": "python",
   "nbconvert_exporter": "python",
   "pygments_lexer": "ipython3",
   "version": "3.6.3"
  }
 },
 "nbformat": 4,
 "nbformat_minor": 1
}
